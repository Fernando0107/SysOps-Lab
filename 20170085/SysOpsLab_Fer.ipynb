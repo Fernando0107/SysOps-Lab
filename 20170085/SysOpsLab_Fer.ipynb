{
 "cells": [
  {
   "cell_type": "code",
   "execution_count": 1,
   "metadata": {},
   "outputs": [],
   "source": [
    "import random\n",
    "import numpy as np\n",
    "import time\n",
    "import threading"
   ]
  },
  {
   "cell_type": "code",
   "execution_count": 2,
   "metadata": {},
   "outputs": [
    {
     "data": {
      "text/plain": [
       "array([[0],\n",
       "       [0],\n",
       "       [0],\n",
       "       [0],\n",
       "       [0],\n",
       "       [0],\n",
       "       [0],\n",
       "       [0],\n",
       "       [0],\n",
       "       [0]])"
      ]
     },
     "execution_count": 2,
     "metadata": {},
     "output_type": "execute_result"
    }
   ],
   "source": [
    "x = np.array([(x*random.randint(0,7)) for x in range(10)])\n",
    "y = np.array([(x*random.randint(0,7)) for x in range(10)])\n",
    "z = np.array([(x*0) for x in range(10)])\n",
    "\n",
    "x.reshape(10,1)\n",
    "y.reshape(10,1)\n",
    "z.reshape(10,1)"
   ]
  },
  {
   "cell_type": "code",
   "execution_count": 3,
   "metadata": {},
   "outputs": [
    {
     "data": {
      "text/plain": [
       "array([[ 0,  0,  0],\n",
       "       [ 7,  3,  0],\n",
       "       [ 8,  8,  0],\n",
       "       [ 9,  9,  0],\n",
       "       [ 8, 28,  0],\n",
       "       [30, 10,  0],\n",
       "       [ 6, 12,  0],\n",
       "       [21, 28,  0],\n",
       "       [32, 32,  0],\n",
       "       [ 9, 63,  0]])"
      ]
     },
     "execution_count": 3,
     "metadata": {},
     "output_type": "execute_result"
    }
   ],
   "source": [
    "matrix = np.column_stack((x, y, z))\n",
    "\n",
    "matrix"
   ]
  },
  {
   "cell_type": "code",
   "execution_count": 4,
   "metadata": {},
   "outputs": [],
   "source": [
    "def brain(t, matrix):\n",
    "    start = time.time()\n",
    "    z_res = []\n",
    "    for i in range(len(matrix)):\n",
    "        matrix[i,2] = matrix[i,0] + matrix[i,1]\n",
    "        time.sleep(t)\n",
    "        print(matrix[i,0], '+', matrix[i,1], '=', matrix[i,2])\n",
    "        z_res.append(matrix[i,2])\n",
    "    final = round(time.time() - start, 2)\n",
    "    \n",
    "    return z_res, final"
   ]
  },
  {
   "cell_type": "markdown",
   "metadata": {},
   "source": [
    "## No Threads"
   ]
  },
  {
   "cell_type": "code",
   "execution_count": 5,
   "metadata": {},
   "outputs": [
    {
     "name": "stdout",
     "output_type": "stream",
     "text": [
      "0 + 0 = 0\n",
      "7 + 3 = 10\n",
      "8 + 8 = 16\n",
      "9 + 9 = 18\n",
      "8 + 28 = 36\n",
      "30 + 10 = 40\n",
      "6 + 12 = 18\n",
      "21 + 28 = 49\n",
      "32 + 32 = 64\n",
      "9 + 63 = 72\n",
      "\n",
      "Vector resultante z: \n",
      "  [0, 10, 16, 18, 36, 40, 18, 49, 64, 72] \n",
      "\n",
      " El tiempo de ejecución fue: \n",
      " 10.05 segundos\n"
     ]
    }
   ],
   "source": [
    "t = 1\n",
    "\n",
    "z, tempo = brain(t, matrix)\n",
    "\n",
    "print('\\nVector resultante z: \\n ', z, '\\n\\n El tiempo de ejecución fue: \\n', tempo, 'segundos')"
   ]
  },
  {
   "cell_type": "markdown",
   "metadata": {},
   "source": [
    "## With Treads"
   ]
  },
  {
   "cell_type": "code",
   "execution_count": 6,
   "metadata": {},
   "outputs": [],
   "source": [
    "def threads(thread, matrix, t, time_s):\n",
    "    \n",
    "    jobs = []\n",
    "    m = int(len(matrix) / thread)\n",
    "    \n",
    "    for i in range(thread):\n",
    "        print('Thread', i+1)\n",
    "        jobs.append(threading.Thread(target=brain, args=(t, matrix[i * m: (i + 1) * m,:])))\n",
    "        jobs[i].start()\n",
    "    for j in jobs:\n",
    "        j.join()\n",
    "        \n",
    "    tempo = round(time.time() - time_s, 2)\n",
    "    \n",
    "    return matrix[:,2], tempo"
   ]
  },
  {
   "cell_type": "markdown",
   "metadata": {},
   "source": [
    "#### 2 Threaths"
   ]
  },
  {
   "cell_type": "code",
   "execution_count": 7,
   "metadata": {},
   "outputs": [
    {
     "name": "stdout",
     "output_type": "stream",
     "text": [
      "Thread 1\n",
      "Thread 2\n",
      "0 + 0 = 0\n",
      "30 + 10 = 40\n",
      "7 + 3 = 10\n",
      "6 + 12 = 18\n",
      "8 + 8 = 16\n",
      "21 + 28 = 49\n",
      "9 + 9 = 18\n",
      "32 + 32 = 64\n",
      "8 + 28 = 36\n",
      "9 + 63 = 72\n",
      "\n",
      "Vector resultante z: \n",
      "  [ 0 10 16 18 36 40 18 49 64 72] \n",
      "\n",
      " El tiempo de ejecución fue: \n",
      " 5.26 segundos\n"
     ]
    }
   ],
   "source": [
    "tread = 2\n",
    "t = 1\n",
    "time_s = time.time()\n",
    "\n",
    "z, tempo = threads(tread,matrix, t, time_s)\n",
    "print('\\nVector resultante z: \\n ', z, '\\n\\n El tiempo de ejecución fue: \\n', tempo, 'segundos')"
   ]
  },
  {
   "cell_type": "markdown",
   "metadata": {},
   "source": [
    "#### 5 Threaths"
   ]
  },
  {
   "cell_type": "code",
   "execution_count": 8,
   "metadata": {},
   "outputs": [
    {
     "name": "stdout",
     "output_type": "stream",
     "text": [
      "Thread 1\n",
      "Thread 2\n",
      "Thread 3\n",
      "Thread 4\n",
      "Thread 5\n",
      "0 + 0 = 0\n",
      "8 + 8 = 16\n",
      "8 + 28 = 36\n",
      "6 + 12 = 18\n",
      "32 + 32 = 64\n",
      "7 + 3 = 10\n",
      "9 + 9 = 18\n",
      "30 + 10 = 40\n",
      "21 + 28 = 49\n",
      "9 + 63 = 72\n",
      "\n",
      "Vector resultante z: \n",
      "  [ 0 10 16 18 36 40 18 49 64 72] \n",
      "\n",
      " El tiempo de ejecución fue: \n",
      " 3.03 segundos\n"
     ]
    }
   ],
   "source": [
    "tread = 5\n",
    "t = 1\n",
    "time_s = time.time()\n",
    "\n",
    "z, tempo = threads(tread,matrix, t, time_s)\n",
    "print('\\nVector resultante z: \\n ', z, '\\n\\n El tiempo de ejecución fue: \\n', tempo, 'segundos')"
   ]
  }
 ],
 "metadata": {
  "kernelspec": {
   "display_name": "Python 3",
   "language": "python",
   "name": "python3"
  },
  "language_info": {
   "codemirror_mode": {
    "name": "ipython",
    "version": 3
   },
   "file_extension": ".py",
   "mimetype": "text/x-python",
   "name": "python",
   "nbconvert_exporter": "python",
   "pygments_lexer": "ipython3",
   "version": "3.7.1"
  }
 },
 "nbformat": 4,
 "nbformat_minor": 4
}
