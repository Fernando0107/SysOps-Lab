{
 "cells": [
  {
   "cell_type": "code",
   "execution_count": 3,
   "metadata": {},
   "outputs": [],
   "source": [
    "import numpy as np\n",
    "import time\n",
    "import threading"
   ]
  },
  {
   "cell_type": "code",
   "execution_count": 4,
   "metadata": {},
   "outputs": [],
   "source": [
    "matrix1 = np.random.randint(11, size=(10,2))\n",
    "z = np.zeros((10,1))\n",
    "matrix1 = np.append(matrix1,z, axis = 1)"
   ]
  },
  {
   "cell_type": "code",
   "execution_count": 5,
   "metadata": {},
   "outputs": [
    {
     "data": {
      "text/plain": [
       "10"
      ]
     },
     "execution_count": 5,
     "metadata": {},
     "output_type": "execute_result"
    }
   ],
   "source": [
    "len(matrix1)"
   ]
  },
  {
   "cell_type": "code",
   "execution_count": 6,
   "metadata": {},
   "outputs": [
    {
     "data": {
      "text/plain": [
       "array([0., 0., 0., 0., 0., 0., 0., 0., 0., 0.])"
      ]
     },
     "execution_count": 6,
     "metadata": {},
     "output_type": "execute_result"
    }
   ],
   "source": [
    "matrix1[:,2]"
   ]
  },
  {
   "cell_type": "code",
   "execution_count": 46,
   "metadata": {},
   "outputs": [],
   "source": [
    "def worker(sub_matrix):\n",
    "    for i in range(len(sub_matrix)):\n",
    "        sub_matrix[i][2] = sub_matrix[i][0] + sub_matrix[i][1]\n",
    "        time.sleep(1)\n",
    "\n",
    "def parent(matrix, hilos):\n",
    "    start_time = time.time()\n",
    "    \n",
    "    size = int(len(matrix) / hilos)\n",
    "        \n",
    "    joint = []\n",
    "    \n",
    "    for i in range(hilos):\n",
    "        joint.append(\n",
    "            threading.Thread(\n",
    "                target = worker, args=(matrix[i*size:(i+1)*size,:],)\n",
    "            )\n",
    "        )\n",
    "        joint[i].start()\n",
    "    \n",
    "    for i in joint:\n",
    "        i.join()\n",
    "    \n",
    "    elapsed_time = time.time() - start_time\n",
    "    \n",
    "    print(\"Resultados:\\n\")\n",
    "    print(\"Numero de hilos:\",hilos,\"\\n\")\n",
    "    print(\"Resultado:\", matrix[:,2],\"\\n\")\n",
    "    print(\"Tiempo que debió tomar: ~10s Tiempo tomado:\",elapsed_time)\n",
    "    return [hilos, elapsed_time]\n"
   ]
  },
  {
   "cell_type": "markdown",
   "metadata": {},
   "source": [
    "### multi-Threading "
   ]
  },
  {
   "cell_type": "code",
   "execution_count": 47,
   "metadata": {},
   "outputs": [
    {
     "name": "stdout",
     "output_type": "stream",
     "text": [
      "Resultados:\n",
      "\n",
      "Numero de hilos: 1 \n",
      "\n",
      "Resultado: [10.  9.  9.  7.  7.  4.  5. 13. 10. 15.] \n",
      "\n",
      "Tiempo que debió tomar: ~10s Tiempo tomado: 10.014461278915405\n",
      "Resultados:\n",
      "\n",
      "Numero de hilos: 2 \n",
      "\n",
      "Resultado: [10.  9.  9.  7.  7.  4.  5. 13. 10. 15.] \n",
      "\n",
      "Tiempo que debió tomar: ~10s Tiempo tomado: 5.054945230484009\n",
      "Resultados:\n",
      "\n",
      "Numero de hilos: 4 \n",
      "\n",
      "Resultado: [10.  9.  9.  7.  7.  4.  5. 13. 10. 15.] \n",
      "\n",
      "Tiempo que debió tomar: ~10s Tiempo tomado: 2.025491714477539\n",
      "Resultados:\n",
      "\n",
      "Numero de hilos: 6 \n",
      "\n",
      "Resultado: [10.  9.  9.  7.  7.  4.  5. 13. 10. 15.] \n",
      "\n",
      "Tiempo que debió tomar: ~10s Tiempo tomado: 1.0215568542480469\n",
      "Resultados:\n",
      "\n",
      "Numero de hilos: 8 \n",
      "\n",
      "Resultado: [10.  9.  9.  7.  7.  4.  5. 13. 10. 15.] \n",
      "\n",
      "Tiempo que debió tomar: ~10s Tiempo tomado: 1.044738531112671\n",
      "Resultados:\n",
      "\n",
      "Numero de hilos: 10 \n",
      "\n",
      "Resultado: [10.  9.  9.  7.  7.  4.  5. 13. 10. 15.] \n",
      "\n",
      "Tiempo que debió tomar: ~10s Tiempo tomado: 1.017423391342163\n"
     ]
    }
   ],
   "source": [
    "results = []\n",
    "for i in range(0,len(matrix1)+1,2):\n",
    "    if(i == 0):\n",
    "        results.append(parent(matrix1,1))\n",
    "    else:\n",
    "        results.append(parent(matrix1,i))"
   ]
  },
  {
   "cell_type": "code",
   "execution_count": null,
   "metadata": {},
   "outputs": [],
   "source": []
  }
 ],
 "metadata": {
  "kernelspec": {
   "display_name": "Python 3",
   "language": "python",
   "name": "python3"
  },
  "language_info": {
   "codemirror_mode": {
    "name": "ipython",
    "version": 3
   },
   "file_extension": ".py",
   "mimetype": "text/x-python",
   "name": "python",
   "nbconvert_exporter": "python",
   "pygments_lexer": "ipython3",
   "version": "3.5.3"
  }
 },
 "nbformat": 4,
 "nbformat_minor": 4
}
